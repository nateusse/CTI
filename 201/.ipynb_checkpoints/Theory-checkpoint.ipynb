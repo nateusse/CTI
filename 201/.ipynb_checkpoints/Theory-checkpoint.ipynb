{
 "cells": [
  {
   "cell_type": "markdown",
   "id": "9570a10c",
   "metadata": {},
   "source": [
    "# 201\n",
    "\n",
    "### Input & Print\n",
    "\n",
    "#### Python data types  \n",
    "    print(type(x))\n",
    "    - str\n",
    "    - int, float, complex\n",
    "    - dict (mapping)\n",
    "    - list, tuples, range (sequence)\n",
    "    - set, frozenset\n",
    "    - bool\n",
    "    - bytes, bytearray, memoryview (binary)\n",
    "    - NoneType\n",
    "   \n",
    "    "
   ]
  }
 ],
 "metadata": {
  "kernelspec": {
   "display_name": "Python 3 (ipykernel)",
   "language": "python",
   "name": "python3"
  },
  "language_info": {
   "codemirror_mode": {
    "name": "ipython",
    "version": 3
   },
   "file_extension": ".py",
   "mimetype": "text/x-python",
   "name": "python",
   "nbconvert_exporter": "python",
   "pygments_lexer": "ipython3",
   "version": "3.9.12"
  }
 },
 "nbformat": 4,
 "nbformat_minor": 5
}

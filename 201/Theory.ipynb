{
 "cells": [
  {
   "cell_type": "markdown",
   "id": "2c27b5be",
   "metadata": {},
   "source": [
    "# 201\n",
    "\n",
    "### Input & Print\n",
    "\n",
    "#### Python data types  \n",
    "    print(type(x))\n",
    "    - str\n",
    "    - int, float, complex\n",
    "    - dict (mapping)\n",
    "    - list, tuples, range (sequence)\n",
    "    - set, frozenset\n",
    "    - bool\n",
    "    - bytes, bytearray, memoryview (binary)\n",
    "    - NoneType\n",
    "    \n",
    "print(10/5) #2.0 decimal\n",
    "print(10//5) # 2 no decimal\n",
    "   \n",
    "### Procedent \n",
    "\n",
    "()\tParentheses\n",
    "**\tExponent\n",
    "+x, -x, ~x\tUnary plus, Unary minus, Bitwise NOT\n",
    "*, /, //, %\tMultiplication, Division, Floor division, Modulus\n",
    "+, -\tAddition, Subtraction\n",
    "<<, >>\tBitwise shift operators\n",
    "&\tBitwise AND\n",
    "^\tBitwise XOR\n",
    "|\tBitwise OR\n",
    "==, !=, >, >=, <, <=, is, is not, in, not in\tComparisons, Identity, Membership operators\n",
    "not\tLogical NOT\n",
    "and\tLogical AND\n",
    "or"
   ]
  }
 ],
 "metadata": {
  "kernelspec": {
   "display_name": "Python 3 (ipykernel)",
   "language": "python",
   "name": "python3"
  },
  "language_info": {
   "codemirror_mode": {
    "name": "ipython",
    "version": 3
   },
   "file_extension": ".py",
   "mimetype": "text/x-python",
   "name": "python",
   "nbconvert_exporter": "python",
   "pygments_lexer": "ipython3",
   "version": "3.9.12"
  }
 },
 "nbformat": 4,
 "nbformat_minor": 5
}

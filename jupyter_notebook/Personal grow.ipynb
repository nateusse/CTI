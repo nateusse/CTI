{
 "cells": [
  {
   "cell_type": "markdown",
   "id": "23bb6fed",
   "metadata": {},
   "source": [
    "# 101\n",
    "\n",
    "\n",
    "## [Types of critical thinking](https://helpfulprofessor.com/thinking-skills/)\n",
    "- Analitical\n",
    "- Divergent\n",
    "- Critical thinking\n",
    "   - Inductive\n",
    "   - Deductive\n",
    "- Creative\n",
    "\n"
   ]
  },
  {
   "cell_type": "markdown",
   "id": "7eaa8d9d",
   "metadata": {},
   "source": [
    "## Fast and slow thinking\n",
    "- Informacion rapida vs topmarse el tiempo de asumir la pregunta"
   ]
  },
  {
   "cell_type": "code",
   "execution_count": null,
   "id": "cfd01929",
   "metadata": {},
   "outputs": [],
   "source": []
  }
 ],
 "metadata": {
  "kernelspec": {
   "display_name": "Python 3 (ipykernel)",
   "language": "python",
   "name": "python3"
  },
  "language_info": {
   "codemirror_mode": {
    "name": "ipython",
    "version": 3
   },
   "file_extension": ".py",
   "mimetype": "text/x-python",
   "name": "python",
   "nbconvert_exporter": "python",
   "pygments_lexer": "ipython3",
   "version": "3.9.12"
  }
 },
 "nbformat": 4,
 "nbformat_minor": 5
}

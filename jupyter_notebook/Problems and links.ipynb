{
 "cells": [
  {
   "cell_type": "markdown",
   "id": "cd301698",
   "metadata": {},
   "source": [
    "# 101"
   ]
  },
  {
   "cell_type": "markdown",
   "id": "f4ee3b1d",
   "metadata": {},
   "source": [
    " [FizzBuzz](https://leetcode.com/problems/fizz-buzz/)\n"
   ]
  },
  {
   "cell_type": "markdown",
   "id": "06fdd0ab",
   "metadata": {},
   "source": [
    " Valid Palindrome\n",
    "\n",
    "    \n",
    "\n"
   ]
  },
  {
   "cell_type": "markdown",
   "id": "3823418d",
   "metadata": {},
   "source": [
    " [Valid Sudoku](https://leetcode.com/problems/valid-sudoku/)\n"
   ]
  },
  {
   "cell_type": "markdown",
   "id": "f7ba3c1f",
   "metadata": {},
   "source": [
    "[Sort array by parity](https://leetcode.com/problems/sort-array-by-parity/)\n"
   ]
  },
  {
   "cell_type": "markdown",
   "id": "afd9527a",
   "metadata": {},
   "source": [
    "[Excel Sheet column number](https://leetcode.com/problems/excel-sheet-column-number/)"
   ]
  },
  {
   "cell_type": "markdown",
   "id": "28bdf7f0",
   "metadata": {},
   "source": [
    "[Pascal triangle](https://leetcode.com/problems/pascals-triangle/)"
   ]
  },
  {
   "cell_type": "markdown",
   "id": "dfd0c5f1",
   "metadata": {},
   "source": [
    "[Palindrom from String](https://leetcode.com/problems/can-make-palindrome-from-substring/)"
   ]
  },
  {
   "cell_type": "markdown",
   "id": "943fbbbc",
   "metadata": {},
   "source": [
    "[Reverse integer](https://leetcode.com/problems/reverse-integer/)"
   ]
  },
  {
   "cell_type": "markdown",
   "id": "c0f1da7d",
   "metadata": {},
   "source": [
    "[Excel sheet column title](https://leetcode.com/problems/excel-sheet-column-title/)"
   ]
  },
  {
   "cell_type": "markdown",
   "id": "fde7de56",
   "metadata": {},
   "source": [
    "[Palindorm number](https://leetcode.com/problems/palindrome-number/)"
   ]
  },
  {
   "cell_type": "markdown",
   "id": "c6e9a8bc",
   "metadata": {},
   "source": [
    "[Non-overlapping Intervals](https://leetcode.com/problems/non-overlapping-intervals/)"
   ]
  },
  {
   "cell_type": "markdown",
   "id": "aeefe388",
   "metadata": {},
   "source": [
    "[Excel Sheet Column Number](https://leetcode.com/problems/excel-sheet-column-number/)"
   ]
  },
  {
   "cell_type": "markdown",
   "id": "628024dd",
   "metadata": {},
   "source": [
    "[Pascals triangle II](https://leetcode.com/problems/pascals-triangle-ii/)"
   ]
  },
  {
   "cell_type": "markdown",
   "id": "4d24a724",
   "metadata": {},
   "source": [
    "[Merge Intervals](https://leetcode.com/problems/merge-intervals/)"
   ]
  },
  {
   "cell_type": "markdown",
   "id": "ea86c6f3",
   "metadata": {},
   "source": [
    "[One Plus](https://leetcode.com/problems/plus-one/)"
   ]
  },
  {
   "cell_type": "markdown",
   "id": "58611a02",
   "metadata": {},
   "source": [
    "# 201\n",
    "[One Plus](https://leetcode.com/problems/plus-one/)"
   ]
  },
  {
   "cell_type": "markdown",
   "id": "d448565d",
   "metadata": {},
   "source": [
    "spending_saving"
   ]
  },
  {
   "cell_type": "markdown",
   "id": "d397f42e",
   "metadata": {},
   "source": [
    "sum_three_nums"
   ]
  },
  {
   "cell_type": "markdown",
   "id": "9664723d",
   "metadata": {},
   "source": [
    "area_triangulo"
   ]
  },
  {
   "cell_type": "markdown",
   "id": "d568b066",
   "metadata": {},
   "source": [
    "hello_harry"
   ]
  },
  {
   "cell_type": "markdown",
   "id": "34adb1df",
   "metadata": {},
   "source": [
    "next_and_previus_number\n"
   ]
  },
  {
   "cell_type": "markdown",
   "id": "2d961b0d",
   "metadata": {},
   "source": [
    "apple_sharing"
   ]
  },
  {
   "cell_type": "markdown",
   "id": "2f4f19fb",
   "metadata": {},
   "source": [
    "hours_and_minutes_after_midnight"
   ]
  }
 ],
 "metadata": {
  "kernelspec": {
   "display_name": "Python 3 (ipykernel)",
   "language": "python",
   "name": "python3"
  },
  "language_info": {
   "codemirror_mode": {
    "name": "ipython",
    "version": 3
   },
   "file_extension": ".py",
   "mimetype": "text/x-python",
   "name": "python",
   "nbconvert_exporter": "python",
   "pygments_lexer": "ipython3",
   "version": "3.9.12"
  }
 },
 "nbformat": 4,
 "nbformat_minor": 5
}
